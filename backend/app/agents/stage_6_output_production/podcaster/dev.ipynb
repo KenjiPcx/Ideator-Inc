{
 "cells": [
  {
   "cell_type": "code",
   "execution_count": 1,
   "metadata": {},
   "outputs": [
    {
     "name": "stderr",
     "output_type": "stream",
     "text": [
      "/home/kenji/.cache/pypoetry/virtualenvs/app-ryz_o4yr-py3.11/lib/python3.11/site-packages/tqdm/auto.py:21: TqdmWarning: IProgress not found. Please update jupyter and ipywidgets. See https://ipywidgets.readthedocs.io/en/stable/user_install.html\n",
      "  from .autonotebook import tqdm as notebook_tqdm\n",
      "None of PyTorch, TensorFlow >= 2.0, or Flax have been found. Models won't be available and only tokenizers, configuration and file/data utilities can be used.\n",
      "/home/kenji/.cache/pypoetry/virtualenvs/app-ryz_o4yr-py3.11/lib/python3.11/site-packages/llama_index/llms/nvidia/base.py:178: UserWarning: Unable to determine validity of nvidia/llama-3.1-nemotron-70b-instruct\n",
      "  warnings.warn(f\"Unable to determine validity of {model_name}\")\n"
     ]
    }
   ],
   "source": [
    "from dotenv import load_dotenv\n",
    "load_dotenv()\n",
    "\n",
    "from app.settings import init_openai, init_nvidia_nim\n",
    "init_nvidia_nim()"
   ]
  },
  {
   "cell_type": "code",
   "execution_count": 2,
   "metadata": {},
   "outputs": [
    {
     "data": {
      "text/plain": [
       "[('ALEX',\n",
       "  \"Welcome to another episode of our business podcast, where today we're diving into the fascinating world of personal AI and gamification. Imagine this: your personal AI not only manages your emails and tasks but turns your entire life into a game, helping you build habits and achieve your goals. <break time='1.5s' /> It's like when Tesla's stock jumped 695% in 2020 - everyone thought Elon was crazy until it happened. Could this be the next big leap in productivity?\"),\n",
       " ('JAMIE',\n",
       "  \"Wow, Alex, that's quite the hook! So, are we talking about something like Habitica but with a personal AI twist? <break time='1.0s' /> I mean, how does this really work?\"),\n",
       " ('ALEX',\n",
       "  \"Exactly, Jamie. Think of it as Habitica on steroids. The idea is to integrate AI with gamification to tackle overwhelming task management and lack of motivation. <phoneme alphabet='cmu-arpabet' ph='IH T S'>It's</phoneme> a niche not fully covered by existing solutions. For instance, imagine a user who transformed their productivity using gamification. The AI personalizes the experience, making it more engaging and effective.\"),\n",
       " ('JAMIE',\n",
       "  \"Right, so it's like having a personal coach that knows exactly what you need. But what about the competition? How do they stack up?\"),\n",
       " ('ALEX',\n",
       "  \"Great question. When we look at competitors like Me.bot and Motion, they offer some innovative features, but they don't fully integrate AI with gamification. The psychological theories behind gamification are powerful, and when combined with AI, they can create personalized experiences that keep users engaged and motivated.\"),\n",
       " ('JAMIE',\n",
       "  \"Hmm, that's interesting. So, what are the customers saying about this? Are they really seeing a difference?\"),\n",
       " ('ALEX',\n",
       "  \"Absolutely. We've seen testimonials from users who have transformed their productivity with AI. They talk about how these tools have helped them manage their time better and build lasting habits. There's a significant demand for solutions that address both productivity and personal development in a personalized way.\"),\n",
       " ('JAMIE',\n",
       "  'Okay, but how feasible is it to integrate AI with gamification? And what about making money from this?'),\n",
       " ('ALEX',\n",
       "  \"It's quite feasible, Jamie. The technology is there, and the potential business models are exciting. We're looking at subscription models and freemium strategies, where users can access basic features for free and pay for premium experiences. Monetization through personalized AI experiences is a promising avenue.\"),\n",
       " ('JAMIE', \"So, what's next for this idea? Where do we go from here?\"),\n",
       " ('ALEX',\n",
       "  \"The next steps involve further development and exploring opportunities for growth. There's potential to expand AI capabilities and gamification elements, leading a new wave of productivity tools that are both engaging and effective. It's an exciting time for innovation in this space.\")]"
      ]
     },
     "execution_count": 2,
     "metadata": {},
     "output_type": "execute_result"
    }
   ],
   "source": [
    "segments = [\n",
    "    {\n",
    "      \"speaker\": \"ALEX\",\n",
    "      \"text\": \"Welcome to another episode of our business podcast, where today we're diving into the fascinating world of personal AI and gamification. Imagine this: your personal AI not only manages your emails and tasks but turns your entire life into a game, helping you build habits and achieve your goals. <break time='1.5s' /> It's like when Tesla's stock jumped 695% in 2020 - everyone thought Elon was crazy until it happened. Could this be the next big leap in productivity?\"\n",
    "    },\n",
    "    {\n",
    "      \"speaker\": \"JAMIE\",\n",
    "      \"text\": \"Wow, Alex, that's quite the hook! So, are we talking about something like Habitica but with a personal AI twist? <break time='1.0s' /> I mean, how does this really work?\"\n",
    "    },\n",
    "    {\n",
    "      \"speaker\": \"ALEX\",\n",
    "      \"text\": \"Exactly, Jamie. Think of it as Habitica on steroids. The idea is to integrate AI with gamification to tackle overwhelming task management and lack of motivation. <phoneme alphabet='cmu-arpabet' ph='IH T S'>It's</phoneme> a niche not fully covered by existing solutions. For instance, imagine a user who transformed their productivity using gamification. The AI personalizes the experience, making it more engaging and effective.\"\n",
    "    },\n",
    "    {\n",
    "      \"speaker\": \"JAMIE\",\n",
    "      \"text\": \"Right, so it's like having a personal coach that knows exactly what you need. But what about the competition? How do they stack up?\"\n",
    "    },\n",
    "    {\n",
    "      \"speaker\": \"ALEX\",\n",
    "      \"text\": \"Great question. When we look at competitors like Me.bot and Motion, they offer some innovative features, but they don't fully integrate AI with gamification. The psychological theories behind gamification are powerful, and when combined with AI, they can create personalized experiences that keep users engaged and motivated.\"\n",
    "    },\n",
    "    {\n",
    "      \"speaker\": \"JAMIE\",\n",
    "      \"text\": \"Hmm, that's interesting. So, what are the customers saying about this? Are they really seeing a difference?\"\n",
    "    },\n",
    "    {\n",
    "      \"speaker\": \"ALEX\",\n",
    "      \"text\": \"Absolutely. We've seen testimonials from users who have transformed their productivity with AI. They talk about how these tools have helped them manage their time better and build lasting habits. There's a significant demand for solutions that address both productivity and personal development in a personalized way.\"\n",
    "    },\n",
    "    {\n",
    "      \"speaker\": \"JAMIE\",\n",
    "      \"text\": \"Okay, but how feasible is it to integrate AI with gamification? And what about making money from this?\"\n",
    "    },\n",
    "    {\n",
    "      \"speaker\": \"ALEX\",\n",
    "      \"text\": \"It's quite feasible, Jamie. The technology is there, and the potential business models are exciting. We're looking at subscription models and freemium strategies, where users can access basic features for free and pay for premium experiences. Monetization through personalized AI experiences is a promising avenue.\"\n",
    "    },\n",
    "    {\n",
    "      \"speaker\": \"JAMIE\",\n",
    "      \"text\": \"So, what's next for this idea? Where do we go from here?\"\n",
    "    },\n",
    "    {\n",
    "      \"speaker\": \"ALEX\",\n",
    "      \"text\": \"The next steps involve further development and exploring opportunities for growth. There's potential to expand AI capabilities and gamification elements, leading a new wave of productivity tools that are both engaging and effective. It's an exciting time for innovation in this space.\"\n",
    "    }\n",
    "  ]\n",
    "segments = [(segment[\"speaker\"], segment[\"text\"]) for segment in segments]\n",
    "segments\n"
   ]
  },
  {
   "cell_type": "code",
   "execution_count": 4,
   "metadata": {},
   "outputs": [
    {
     "data": {
      "text/plain": [
       "'http://localhost:8000/api/files/output/tools/65702cbb-9640-4ff7-b718-f03926cccaa8/testmp3.mp3'"
      ]
     },
     "execution_count": 4,
     "metadata": {},
     "output_type": "execute_result"
    }
   ],
   "source": [
    "from app.engine.tools.podcast_generator import ElevenLabsGenerator\n",
    "elevenlabs_generator = ElevenLabsGenerator()\n",
    "session_id = \"65702cbb-9640-4ff7-b718-f03926cccaa8\"\n",
    "elevenlabs_generator.generate_podcast(segments, \"test.mp3\", session_id)\n",
    "\n"
   ]
  },
  {
   "cell_type": "code",
   "execution_count": null,
   "metadata": {},
   "outputs": [],
   "source": []
  }
 ],
 "metadata": {
  "kernelspec": {
   "display_name": "app-zBMyfuJ1-py3.11",
   "language": "python",
   "name": "python3"
  },
  "language_info": {
   "codemirror_mode": {
    "name": "ipython",
    "version": 3
   },
   "file_extension": ".py",
   "mimetype": "text/x-python",
   "name": "python",
   "nbconvert_exporter": "python",
   "pygments_lexer": "ipython3",
   "version": "3.11.6"
  }
 },
 "nbformat": 4,
 "nbformat_minor": 2
}
