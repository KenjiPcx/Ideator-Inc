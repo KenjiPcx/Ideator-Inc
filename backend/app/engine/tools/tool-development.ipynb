{
 "cells": [
  {
   "cell_type": "code",
   "execution_count": 1,
   "metadata": {},
   "outputs": [
    {
     "data": {
      "text/plain": [
       "True"
      ]
     },
     "execution_count": 1,
     "metadata": {},
     "output_type": "execute_result"
    }
   ],
   "source": [
    "import dotenv\n",
    "dotenv.load_dotenv()\n"
   ]
  },
  {
   "cell_type": "code",
   "execution_count": 2,
   "metadata": {},
   "outputs": [
    {
     "name": "stdout",
     "output_type": "stream",
     "text": [
      "[LOG] 🌤️  Warming up the AsyncWebCrawler\n",
      "[LOG] 🌞 AsyncWebCrawler is ready to crawl\n",
      "[LOG] 🕸️ Crawling https://www.reddit.com/r/EventProduction/comments/1d93f6k/nowadays_ai_tool_for_event_planning/ using AsyncPlaywrightCrawlerStrategy...\n",
      "[LOG] ✅ Crawled https://www.reddit.com/r/EventProduction/comments/1d93f6k/nowadays_ai_tool_for_event_planning/ successfully!\n",
      "[LOG] 🚀 Crawling done for https://www.reddit.com/r/EventProduction/comments/1d93f6k/nowadays_ai_tool_for_event_planning/, success: True, time taken: 1.66 seconds\n",
      "[LOG] 🚀 Content extracted for https://www.reddit.com/r/EventProduction/comments/1d93f6k/nowadays_ai_tool_for_event_planning/, success: True, time taken: 0.22 seconds\n",
      "[LOG] 🔥 Extracting semantic blocks for https://www.reddit.com/r/EventProduction/comments/1d93f6k/nowadays_ai_tool_for_event_planning/, Strategy: AsyncWebCrawler\n",
      "[LOG] Call LLM for https://www.reddit.com/r/EventProduction/comments/1d93f6k/nowadays_ai_tool_for_event_planning/ - block index: 0\n",
      "[LOG] Extracted 1 blocks from URL: https://www.reddit.com/r/EventProduction/comments/1d93f6k/nowadays_ai_tool_for_event_planning/ block index: 0\n",
      "[LOG] 🚀 Extraction done for https://www.reddit.com/r/EventProduction/comments/1d93f6k/nowadays_ai_tool_for_event_planning/, time taken: 3.25 seconds.\n",
      "Number of tech-related items extracted: 1\n",
      "[{'name': 'Nowadays', 'relevant': True, 'url': 'https://www.getnowadays.com/', 'error': False}]\n"
     ]
    },
    {
     "name": "stderr",
     "output_type": "stream",
     "text": [
      "/home/kenji/.cache/pypoetry/virtualenvs/app-zBMyfuJ1-py3.11/lib/python3.11/site-packages/pydantic/main.py:390: UserWarning: Pydantic serializer warnings:\n",
      "  Expected `PromptTokensDetails` but got `dict` with value `{'audio_tokens': None, 'cached_tokens': 0}` - serialized value may not be as expected\n",
      "  return self.__pydantic_serializer__.to_python(\n"
     ]
    }
   ],
   "source": [
    "from crawl4ai import AsyncWebCrawler\n",
    "from crawl4ai.extraction_strategy import LLMExtractionStrategy\n",
    "import os\n",
    "import json\n",
    "import asyncio\n",
    "from pydantic import BaseModel, Field\n",
    "\n",
    "class Competitor(BaseModel):\n",
    "    name: str = Field(..., description=\"Name of the competitor\")\n",
    "    relevant: bool = Field(..., description=\"Whether the competitor is relevant to the user's idea\")\n",
    "    url: str = Field(..., description=\"Homepage url of the competitor\")\n",
    "\n",
    "async def extract_tech_content():\n",
    "    async with AsyncWebCrawler(verbose=True) as crawler:\n",
    "        result = await crawler.arun(\n",
    "            url=\"https://www.reddit.com/r/EventProduction/comments/1d93f6k/nowadays_ai_tool_for_event_planning/\",\n",
    "            extraction_strategy=LLMExtractionStrategy(\n",
    "                provider=\"openai/gpt-4o\",\n",
    "                api_token=os.getenv('OPENAI_API_KEY'),\n",
    "                extraction_type=\"schema\",\n",
    "                schema=Competitor.model_json_schema(),\n",
    "                instruction=\"We are a competitor analysis pipeline for a user's idea. The following content is a new reddit launch post, extract the company/product name, whether it is relevant to the user's idea or not, and if it is, extract its homepage url. User idea is an AI tool for event planning.\"\n",
    "            ),\n",
    "            bypass_cache=True,\n",
    "        )\n",
    "\n",
    "    tech_content = json.loads(result.extracted_content)\n",
    "    print(f\"Number of tech-related items extracted: {len(tech_content)}\")\n",
    "    print(tech_content)\n",
    "await extract_tech_content()"
   ]
  },
  {
   "cell_type": "code",
   "execution_count": 6,
   "metadata": {},
   "outputs": [
    {
     "name": "stdout",
     "output_type": "stream",
     "text": [
      "[LOG] 🚀 Crawling done for https://openai.com/api/pricing/, success: True, time taken: 1.47 seconds\n",
      "[LOG] 🚀 Content extracted for https://openai.com/api/pricing/, success: True, time taken: 0.01 seconds\n",
      "[LOG] 🔥 Extracting semantic blocks for https://openai.com/api/pricing/, Strategy: AsyncWebCrawler\n",
      "[LOG] Call LLM for https://openai.com/api/pricing/ - block index: 0\n",
      "[LOG] Extracted 1 blocks from URL: https://openai.com/api/pricing/ block index: 0\n",
      "[LOG] 🚀 Extraction done for https://openai.com/api/pricing/, time taken: 0.93 seconds.\n",
      "[\n",
      "    {\n",
      "        \"index\": 0,\n",
      "        \"tags\": [\n",
      "            \"error message\"\n",
      "        ],\n",
      "        \"content\": [\n",
      "            \"Application error: a client-side exception has occurred (see the browser console for more information).\"\n",
      "        ],\n",
      "        \"error\": false\n",
      "    }\n",
      "]\n"
     ]
    }
   ],
   "source": [
    "await extract_openai_pricing()"
   ]
  },
  {
   "cell_type": "code",
   "execution_count": 4,
   "metadata": {},
   "outputs": [
    {
     "name": "stdout",
     "output_type": "stream",
     "text": [
      "[LOG] 🌤️  Warming up the AsyncWebCrawler\n",
      "[LOG] 🌞 AsyncWebCrawler is ready to crawl\n",
      "[LOG] 🕸️ Crawling https://www.ycombinator.com/launches/J7I-nowadays-ai-copilot-for-event-planning using AsyncPlaywrightCrawlerStrategy...\n",
      "[LOG] ✅ Crawled https://www.ycombinator.com/launches/J7I-nowadays-ai-copilot-for-event-planning successfully!\n",
      "[LOG] 🚀 Crawling done for https://www.ycombinator.com/launches/J7I-nowadays-ai-copilot-for-event-planning, success: True, time taken: 1.69 seconds\n",
      "[LOG] 🚀 Content extracted for https://www.ycombinator.com/launches/J7I-nowadays-ai-copilot-for-event-planning, success: True, time taken: 0.03 seconds\n",
      "[LOG] 🔥 Extracting semantic blocks for https://www.ycombinator.com/launches/J7I-nowadays-ai-copilot-for-event-planning, Strategy: AsyncWebCrawler\n",
      "[LOG] Call LLM for https://www.ycombinator.com/launches/J7I-nowadays-ai-copilot-for-event-planning - block index: 0\n",
      "[LOG] Extracted 1 blocks from URL: https://www.ycombinator.com/launches/J7I-nowadays-ai-copilot-for-event-planning block index: 0\n",
      "[LOG] 🚀 Extraction done for https://www.ycombinator.com/launches/J7I-nowadays-ai-copilot-for-event-planning, time taken: 2.14 seconds.\n"
     ]
    },
    {
     "name": "stderr",
     "output_type": "stream",
     "text": [
      "/home/kenji/.cache/pypoetry/virtualenvs/app-zBMyfuJ1-py3.11/lib/python3.11/site-packages/pydantic/main.py:390: UserWarning: Pydantic serializer warnings:\n",
      "  Expected `PromptTokensDetails` but got `dict` with value `{'audio_tokens': None, 'cached_tokens': 0}` - serialized value may not be as expected\n",
      "  return self.__pydantic_serializer__.to_python(\n"
     ]
    },
    {
     "data": {
      "text/plain": [
       "WebReaderResult(content=[{'name': 'Nowadays', 'relevant': True, 'url': 'http://getnowadays.com/', 'error': False}], url='https://www.ycombinator.com/launches/J7I-nowadays-ai-copilot-for-event-planning', is_error=False, error_message=None)"
      ]
     },
     "execution_count": 4,
     "metadata": {},
     "output_type": "execute_result"
    }
   ],
   "source": [
    "from app.engine.tools.web_reader import read_webpage\n",
    "from pydantic import BaseModel, Field\n",
    "class Competitor(BaseModel):\n",
    "    name: str = Field(..., description=\"Name of the competitor\")\n",
    "    relevant: bool = Field(..., description=\"Whether the competitor is relevant to the user's idea\")\n",
    "    url: str = Field(..., description=\"Homepage url of the competitor\")\n",
    "await read_webpage(\"https://www.ycombinator.com/launches/J7I-nowadays-ai-copilot-for-event-planning\", schema=Competitor.model_json_schema(), instruction=\"We are a competitor analysis pipeline for a user's idea. The following content is a new reddit launch post, extract the company/product name, whether it is relevant to the user's idea or not, and if it is, extract its homepage url. User idea is an AI tool for event planning.\")\n"
   ]
  },
  {
   "cell_type": "code",
   "execution_count": null,
   "metadata": {},
   "outputs": [],
   "source": []
  }
 ],
 "metadata": {
  "kernelspec": {
   "display_name": "app-zBMyfuJ1-py3.11",
   "language": "python",
   "name": "python3"
  },
  "language_info": {
   "codemirror_mode": {
    "name": "ipython",
    "version": 3
   },
   "file_extension": ".py",
   "mimetype": "text/x-python",
   "name": "python",
   "nbconvert_exporter": "python",
   "pygments_lexer": "ipython3",
   "version": "3.11.6"
  }
 },
 "nbformat": 4,
 "nbformat_minor": 2
}
